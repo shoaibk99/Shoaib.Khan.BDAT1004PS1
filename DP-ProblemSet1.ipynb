{
 "cells": [
  {
   "cell_type": "markdown",
   "id": "dec6f7d7-d4b6-47e0-b61e-fd6fb0fd748a",
   "metadata": {
    "tags": []
   },
   "source": [
    "# Question 1"
   ]
  },
  {
   "cell_type": "code",
   "execution_count": 7,
   "id": "0a493f0a-29f1-45d7-93ed-1d3bccb2940c",
   "metadata": {
    "tags": []
   },
   "outputs": [
    {
     "data": {
      "text/plain": [
       "int"
      ]
     },
     "execution_count": 7,
     "metadata": {},
     "output_type": "execute_result"
    }
   ],
   "source": [
    "type(5)"
   ]
  },
  {
   "cell_type": "code",
   "execution_count": 8,
   "id": "10d36134-d014-47a4-87ba-8f4292ef1d5f",
   "metadata": {
    "tags": []
   },
   "outputs": [
    {
     "data": {
      "text/plain": [
       "float"
      ]
     },
     "execution_count": 8,
     "metadata": {},
     "output_type": "execute_result"
    }
   ],
   "source": [
    "type(5.0)"
   ]
  },
  {
   "cell_type": "code",
   "execution_count": 9,
   "id": "28984464-cf63-4c37-86da-1dd32d1c7ae9",
   "metadata": {
    "tags": []
   },
   "outputs": [
    {
     "data": {
      "text/plain": [
       "bool"
      ]
     },
     "execution_count": 9,
     "metadata": {},
     "output_type": "execute_result"
    }
   ],
   "source": [
    "type(5 > 1)"
   ]
  },
  {
   "cell_type": "code",
   "execution_count": 10,
   "id": "7e852bc9-5e3f-48c3-b0fd-01489ab9f9c1",
   "metadata": {
    "tags": []
   },
   "outputs": [
    {
     "data": {
      "text/plain": [
       "str"
      ]
     },
     "execution_count": 10,
     "metadata": {},
     "output_type": "execute_result"
    }
   ],
   "source": [
    "type('5')"
   ]
  },
  {
   "cell_type": "code",
   "execution_count": 11,
   "id": "c55f0f9b-ca68-4bd0-b530-1fbdbebb0165",
   "metadata": {
    "tags": []
   },
   "outputs": [
    {
     "data": {
      "text/plain": [
       "int"
      ]
     },
     "execution_count": 11,
     "metadata": {},
     "output_type": "execute_result"
    }
   ],
   "source": [
    "type(5 * 2)"
   ]
  },
  {
   "cell_type": "code",
   "execution_count": 12,
   "id": "eba6f3e1-84f9-4044-a5f7-7d6229611397",
   "metadata": {
    "tags": []
   },
   "outputs": [
    {
     "data": {
      "text/plain": [
       "str"
      ]
     },
     "execution_count": 12,
     "metadata": {},
     "output_type": "execute_result"
    }
   ],
   "source": [
    "type('5' * 2)"
   ]
  },
  {
   "cell_type": "code",
   "execution_count": 13,
   "id": "0d79ba6a-05e5-44f0-bd6d-5125cbab2ba0",
   "metadata": {
    "tags": []
   },
   "outputs": [
    {
     "data": {
      "text/plain": [
       "str"
      ]
     },
     "execution_count": 13,
     "metadata": {},
     "output_type": "execute_result"
    }
   ],
   "source": [
    "type('5' + '2')"
   ]
  },
  {
   "cell_type": "code",
   "execution_count": 14,
   "id": "928d958d-7492-4a9d-8eb3-b1f7b40eed21",
   "metadata": {
    "tags": []
   },
   "outputs": [
    {
     "data": {
      "text/plain": [
       "float"
      ]
     },
     "execution_count": 14,
     "metadata": {},
     "output_type": "execute_result"
    }
   ],
   "source": [
    "type(5 / 2)"
   ]
  },
  {
   "cell_type": "code",
   "execution_count": 15,
   "id": "6f10fe78-ddcd-4a28-ab28-db82d0d24b9a",
   "metadata": {
    "tags": []
   },
   "outputs": [
    {
     "data": {
      "text/plain": [
       "int"
      ]
     },
     "execution_count": 15,
     "metadata": {},
     "output_type": "execute_result"
    }
   ],
   "source": [
    "type(5 % 2)"
   ]
  },
  {
   "cell_type": "code",
   "execution_count": 16,
   "id": "60e3c39f-eb74-4fc5-9c90-94421ecf35e2",
   "metadata": {
    "tags": []
   },
   "outputs": [
    {
     "data": {
      "text/plain": [
       "set"
      ]
     },
     "execution_count": 16,
     "metadata": {},
     "output_type": "execute_result"
    }
   ],
   "source": [
    "type({5, 2, 1})"
   ]
  },
  {
   "cell_type": "code",
   "execution_count": 17,
   "id": "8a024987-afb5-4cf1-a106-d5a2b3ef6346",
   "metadata": {
    "tags": []
   },
   "outputs": [
    {
     "data": {
      "text/plain": [
       "bool"
      ]
     },
     "execution_count": 17,
     "metadata": {},
     "output_type": "execute_result"
    }
   ],
   "source": [
    "type(5 == 3)"
   ]
  },
  {
   "cell_type": "code",
   "execution_count": 21,
   "id": "f58987e8-b4d1-4b61-bba3-8b3f3dbc52b6",
   "metadata": {
    "tags": []
   },
   "outputs": [
    {
     "data": {
      "text/plain": [
       "float"
      ]
     },
     "execution_count": 21,
     "metadata": {},
     "output_type": "execute_result"
    }
   ],
   "source": [
    "import math\n",
    "type(math.pi)"
   ]
  },
  {
   "cell_type": "markdown",
   "id": "d0747366-dbea-4a31-a947-e35f9e46c161",
   "metadata": {},
   "source": [
    "# Question 2"
   ]
  },
  {
   "cell_type": "code",
   "execution_count": 28,
   "id": "9e55b9ee-9bfd-40f2-8b38-c8edbd0cde2a",
   "metadata": {
    "tags": []
   },
   "outputs": [
    {
     "name": "stdout",
     "output_type": "stream",
     "text": [
      "34\n"
     ]
    }
   ],
   "source": [
    "# Question 2.a\n",
    "word = \"Supercalifragilisticexpialidocious\"\n",
    "print(len(word))"
   ]
  },
  {
   "cell_type": "code",
   "execution_count": 32,
   "id": "49f786c7-d151-448f-a6cf-ec48f06b486a",
   "metadata": {
    "tags": []
   },
   "outputs": [
    {
     "name": "stdout",
     "output_type": "stream",
     "text": [
      "The word Supercalifragilisticexpialidocious contains the substring ice\n"
     ]
    }
   ],
   "source": [
    "# Question 2.b\n",
    "if \"ice\" in \"Supercalifragilisticexpialidocious\":\n",
    "    print(\"The word Supercalifragilisticexpialidocious contains the substring ice\")"
   ]
  },
  {
   "cell_type": "code",
   "execution_count": 40,
   "id": "cc817330-1c4b-486f-854d-9ec32ab25a08",
   "metadata": {
    "tags": []
   },
   "outputs": [
    {
     "name": "stdout",
     "output_type": "stream",
     "text": [
      "Bababadalgharaghtakamminarronnkonn is the longest word\n"
     ]
    }
   ],
   "source": [
    "# Question 2.c\n",
    "word1 = \"Supercalifragilisticexpialidocious\"\n",
    "word2 = \"Honorificabilitudinitatibus\"\n",
    "word3 = \"Bababadalgharaghtakamminarronnkonn\"\n",
    "\n",
    "if len(word1) > len(word2) and len(word1) > len(word3):\n",
    "    print(\"Supercalifragilisticexpialidocious is the longest word\")\n",
    "elif len(word2) > len(word1) and len(word2) > len(word3):\n",
    "    print(\"Honorificabilitudinitatibus is the longest word\")\n",
    "else:\n",
    "    print(\"Bababadalgharaghtakamminarronnkonn is the longest word\")"
   ]
  },
  {
   "cell_type": "code",
   "execution_count": 43,
   "id": "c0a7e1f3-6f38-4b3f-a4ce-c034f66dafd3",
   "metadata": {
    "tags": []
   },
   "outputs": [
    {
     "name": "stdout",
     "output_type": "stream",
     "text": [
      "{'Borodin', 'Buxtehude', 'Berlioz', 'Bellini', 'Brian', 'Bernstein', 'Bartok'}\n"
     ]
    },
    {
     "data": {
      "text/plain": [
       "'Borodin comes first. \\nBartok comes last'"
      ]
     },
     "execution_count": 43,
     "metadata": {},
     "output_type": "execute_result"
    }
   ],
   "source": [
    "# Question 2.d\n",
    "dictionary = {'Berlioz', 'Borodin', 'Brian','Bartok', 'Bellini', 'Buxtehude', 'Bernstein'}\n",
    "print(dictionary)\n",
    "\n",
    "#######Answer#######\n",
    "'''Borodin comes first. \n",
    "Bartok comes last'''"
   ]
  },
  {
   "cell_type": "markdown",
   "id": "0e46fd7a-02bc-438c-b4ba-d7a1ea670124",
   "metadata": {},
   "source": [
    "# Question 3"
   ]
  },
  {
   "cell_type": "code",
   "execution_count": 51,
   "id": "0926c853-b4df-42e4-8470-f66cb16f2646",
   "metadata": {
    "tags": []
   },
   "outputs": [
    {
     "name": "stdout",
     "output_type": "stream",
     "text": [
      "Area is  1.7320508075688772\n"
     ]
    }
   ],
   "source": [
    "import math\n",
    "\n",
    "def triangleArea(a,b,c):\n",
    "    s = (a+b+c)/2\n",
    "    area = math.sqrt(s*(s-a)*(s-b)*(s-c))\n",
    "    print(\"Area is \", area)\n",
    "    \n",
    "triangleArea(2,2,2)"
   ]
  },
  {
   "cell_type": "markdown",
   "id": "5506be3e-6010-42cc-ac7f-54abf303028a",
   "metadata": {},
   "source": [
    "# Question 4"
   ]
  },
  {
   "cell_type": "code",
   "execution_count": 62,
   "id": "43e42701-b472-4367-90f2-986313b42d35",
   "metadata": {
    "tags": []
   },
   "outputs": [
    {
     "name": "stdout",
     "output_type": "stream",
     "text": [
      "How many elements do you want to insert : \n"
     ]
    },
    {
     "name": "stdin",
     "output_type": "stream",
     "text": [
      " 5\n"
     ]
    },
    {
     "name": "stdout",
     "output_type": "stream",
     "text": [
      "element- 1 :\n"
     ]
    },
    {
     "name": "stdin",
     "output_type": "stream",
     "text": [
      " 25\n"
     ]
    },
    {
     "name": "stdout",
     "output_type": "stream",
     "text": [
      "element- 2 :\n"
     ]
    },
    {
     "name": "stdin",
     "output_type": "stream",
     "text": [
      " 47\n"
     ]
    },
    {
     "name": "stdout",
     "output_type": "stream",
     "text": [
      "element- 3 :\n"
     ]
    },
    {
     "name": "stdin",
     "output_type": "stream",
     "text": [
      " 42\n"
     ]
    },
    {
     "name": "stdout",
     "output_type": "stream",
     "text": [
      "element- 4 :\n"
     ]
    },
    {
     "name": "stdin",
     "output_type": "stream",
     "text": [
      " 56\n"
     ]
    },
    {
     "name": "stdout",
     "output_type": "stream",
     "text": [
      "element- 5 :\n"
     ]
    },
    {
     "name": "stdin",
     "output_type": "stream",
     "text": [
      " 32\n"
     ]
    },
    {
     "name": "stdout",
     "output_type": "stream",
     "text": [
      "5\n",
      "Even elements are : \n",
      "[42, 56, 32]\n",
      "Odd elements are : \n",
      "[25, 47]\n"
     ]
    }
   ],
   "source": [
    "even_elements = []\n",
    "odd_elements = []\n",
    "elements = []\n",
    "\n",
    "print(\"How many elements do you want to insert : \")\n",
    "number_of_ele = int(input())\n",
    "\n",
    "for i in range(number_of_ele):\n",
    "    print(\"element-\",i+1,\":\")\n",
    "    temp = int(input())\n",
    "    elements.append(temp)\n",
    "print(len(elements))\n",
    "\n",
    "print(\"Even elements are : \")\n",
    "for i in range(len(elements)):\n",
    "    if elements[i] % 2 == 0:\n",
    "        even_elements.append(elements[i])\n",
    "print(even_elements)\n",
    "\n",
    "print(\"Odd elements are : \")\n",
    "for i in range(len(elements)):\n",
    "    if elements[i] % 2 == 1:\n",
    "        odd_elements.append(elements[i])\n",
    "print(odd_elements)"
   ]
  },
  {
   "cell_type": "markdown",
   "id": "8500eecf-e165-41f8-a2a1-a2b1dbcdb54c",
   "metadata": {},
   "source": [
    "# Question 5"
   ]
  },
  {
   "cell_type": "code",
   "execution_count": 102,
   "id": "a1096eab-4c75-4487-b648-dd11b60e1669",
   "metadata": {
    "tags": []
   },
   "outputs": [
    {
     "name": "stdout",
     "output_type": "stream",
     "text": [
      "True\n",
      "False\n"
     ]
    }
   ],
   "source": [
    "# Question 5a\n",
    "def inside(x,y,x1,y1,x2,y2):\n",
    "    if ((x > x1 and x <= x2) and (y > y1 and y <= y2)):\n",
    "        print(\"True\")\n",
    "    else:\n",
    "        print(\"False\")\n",
    "        \n",
    "inside(1,1,0,0,2,3)\n",
    "inside(-1,-1,0,0,2,3)"
   ]
  },
  {
   "cell_type": "code",
   "execution_count": 71,
   "id": "45f5c3da-f8ab-4adf-a06e-a25c0f3164b6",
   "metadata": {
    "tags": []
   },
   "outputs": [
    {
     "name": "stdout",
     "output_type": "stream",
     "text": [
      "False\n"
     ]
    }
   ],
   "source": [
    "# Question 5b\n",
    "def inside(x,y,x1,y1,x2,y2):\n",
    "    if x1 <= x <= x2 and y1 <= y <= y2:\n",
    "        return True\n",
    "    else:\n",
    "        return False\n",
    "\n",
    "r1_llx = 0.3\n",
    "r1_lly = 0.5\n",
    "r1_urx = 1.1\n",
    "r1_ury = 0.7\n",
    "\n",
    "r2_llx = 0.5\n",
    "r2_lly = 0.2\n",
    "r2_urx = 1.1\n",
    "r2_ury = 2\n",
    "\n",
    "point1_to_check = 1\n",
    "point2_to_check = 1\n",
    "\n",
    "inside_rect1 = inside(point1_to_check, point2_to_check, r1_llx, r1_lly, r1_urx, r1_ury)\n",
    "inside_rect2 = inside(point1_to_check, point2_to_check, r2_llx, r2_lly, r2_urx, r2_ury)\n",
    "\n",
    "if inside_rect1 and inside_rect2:\n",
    "    print(\"True\")\n",
    "else:\n",
    "    print(\"False\")"
   ]
  },
  {
   "cell_type": "markdown",
   "id": "4b72fea3-cea5-4117-9218-5adcffbcc8f2",
   "metadata": {
    "tags": []
   },
   "source": [
    "# Question 6"
   ]
  },
  {
   "cell_type": "code",
   "execution_count": 88,
   "id": "9430011a-b36f-4728-b557-fde878f570e4",
   "metadata": {
    "tags": []
   },
   "outputs": [
    {
     "name": "stdout",
     "output_type": "stream",
     "text": [
      "appyhay\n",
      "enterway\n"
     ]
    }
   ],
   "source": [
    "def pig(string):\n",
    "    if string[0].lower() not in vowels:\n",
    "        first_character = string[0]\n",
    "        remaining_string = string[1:]\n",
    "        pigLatin = remaining_string + first_character + \"ay\"\n",
    "        print(pigLatin)\n",
    "    if string[0].lower() in vowels:\n",
    "        pigLatin = string + \"way\"\n",
    "        print(pigLatin.lower())\n",
    "\n",
    "word = \"happy\"\n",
    "word2 = \"Enter\"\n",
    "vowels = [\"a\", \"e\", \"i\", \"o\", \"u\"]\n",
    "pig(word)\n",
    "pig(word2)"
   ]
  },
  {
   "cell_type": "markdown",
   "id": "7fd9c3d1-a6bd-43ad-a088-d51ff4f1fbc9",
   "metadata": {},
   "source": [
    "# Question 7"
   ]
  },
  {
   "cell_type": "code",
   "execution_count": 112,
   "id": "debd1993-9491-44cd-93cc-b9602434abe1",
   "metadata": {
    "tags": []
   },
   "outputs": [
    {
     "name": "stdout",
     "output_type": "stream",
     "text": [
      "['AB', 'AB', 'B', 'O', 'A', 'A', 'AB', 'O', 'AB', 'A', 'O', 'O', 'A', 'A', 'A', 'O', 'O', 'O', 'AB', 'O', 'A', 'A', 'A', 'A', 'A', 'AB', 'AB', 'A', 'AB', 'O', 'AB', 'O', 'A', 'O', 'O', 'O', 'AB', 'O', 'AB', 'AB', 'AB', 'A', 'A', 'O']\n",
      "There are  15  patients of type A\n",
      "There are  1  patients of type B\n",
      "There are  13  patients of type AB\n",
      "There are  15  patients of type O\n",
      "There are  0  patients of type OO\n"
     ]
    }
   ],
   "source": [
    "def bldcount(filename):\n",
    "    a = 0\n",
    "    b = 0\n",
    "    ab = 0 \n",
    "    o = 0\n",
    "    oo = 0\n",
    "    with open(filename, \"r\") as bloodtypefile:\n",
    "        blood_types = bloodtypefile.read().split()\n",
    "        print(blood_types)\n",
    "        for types in blood_types:\n",
    "            if types == 'AB':\n",
    "                ab += 1\n",
    "            elif types == 'B':\n",
    "                b += 1\n",
    "            elif types == 'O':\n",
    "                o += 1\n",
    "            elif types == 'A':\n",
    "                a += 1\n",
    "            else:\n",
    "                oo += 1\n",
    "    print(\"There are \",a,\" patients of type A\")\n",
    "    print(\"There are \",b,\" patients of type B\")\n",
    "    print(\"There are \",ab,\" patients of type AB\")\n",
    "    print(\"There are \",o,\" patients of type O\")\n",
    "    print(\"There are \",oo,\" patients of type OO\")\n",
    "\n",
    "bldcount(\"bloodtype1.txt\")"
   ]
  },
  {
   "cell_type": "markdown",
   "id": "405cae75-22d0-449e-aa37-3a5f0d4b18c0",
   "metadata": {},
   "source": [
    "# Question 8"
   ]
  },
  {
   "cell_type": "code",
   "execution_count": 148,
   "id": "1218f160-b531-4779-9849-207b996f6a4f",
   "metadata": {
    "tags": []
   },
   "outputs": [
    {
     "name": "stdout",
     "output_type": "stream",
     "text": [
      "1.22965441.22965441.22965441.22965441.22965441.22965441.22965441.22965441.22965441.22965441.22965441.22965441.22965441.22965441.22965441.22965441.22965441.22965441.22965441.22965441.22965441.22965441.22965441.22965441.22965441.22965441.22965441.22965441.22965441.22965441.22965441.22965441.22965441.22965441.22965441.22965441.22965441.22965441.22965441.22965441.22965441.22965441.22965441.22965441.22965441.22965441.22965441.22965441.22965441.22965441.22965441.22965441.22965441.22965441.22965441.22965441.22965441.22965441.22965441.22965441.22965441.22965441.22965441.22965441.22965441.22965441.22965441.22965441.22965441.22965441.22965441.22965441.22965441.22965441.22965441.22965441.22965441.22965441.22965441.22965441.22965441.22965441.22965441.22965441.22965441.22965441.22965441.22965441.22965441.22965441.22965441.22965441.22965441.22965441.22965441.22965441.22965441.22965441.22965441.2296544\n"
     ]
    }
   ],
   "source": [
    "exchange_rate_dictionary = {}\n",
    "with open(\"currencies.txt\", \"r\") as file:\n",
    "        for lines in file:\n",
    "            columns = lines.strip().split()\n",
    "            #print(columns)\n",
    "            if len(columns) > 2:\n",
    "                key = columns[0]\n",
    "                value = columns[1]\n",
    "                exchange_rate_dictionary[key] = value;\n",
    "\n",
    "def curconv(currency, amount):\n",
    "        #print(exchange_rate_dictionary)\n",
    "        conversion_rate = exchange_rate_dictionary[currency]\n",
    "        final_amount = conversion_rate * amount\n",
    "        print(final_amount)\n",
    "\n",
    "curconv('EUR', 100)"
   ]
  },
  {
   "cell_type": "markdown",
   "id": "3c376db0-9594-4e64-a180-e9edac70c963",
   "metadata": {},
   "source": [
    "# Question 9"
   ]
  },
  {
   "cell_type": "code",
   "execution_count": 139,
   "id": "12bb46fb-3a28-43e8-87f1-964632f3c3f7",
   "metadata": {
    "tags": []
   },
   "outputs": [
    {
     "ename": "TypeError",
     "evalue": "unsupported operand type(s) for +: 'int' and 'str'",
     "output_type": "error",
     "traceback": [
      "\u001b[1;31m---------------------------------------------------------------------------\u001b[0m",
      "\u001b[1;31mTypeError\u001b[0m                                 Traceback (most recent call last)",
      "Cell \u001b[1;32mIn[139], line 1\u001b[0m\n\u001b[1;32m----> 1\u001b[0m \u001b[38;5;241m6\u001b[39m \u001b[38;5;241m+\u001b[39m \u001b[38;5;124m'\u001b[39m\u001b[38;5;124ma\u001b[39m\u001b[38;5;124m'\u001b[39m\n",
      "\u001b[1;31mTypeError\u001b[0m: unsupported operand type(s) for +: 'int' and 'str'"
     ]
    }
   ],
   "source": [
    "6 + 'a'\n",
    "\n",
    "# Error : unsupported operand type(s) for +: 'int' and 'str'"
   ]
  },
  {
   "cell_type": "code",
   "execution_count": 140,
   "id": "ac66bc3c-f379-418a-88b4-77d02cc3e30d",
   "metadata": {
    "tags": []
   },
   "outputs": [
    {
     "ename": "IndexError",
     "evalue": "list index out of range",
     "output_type": "error",
     "traceback": [
      "\u001b[1;31m---------------------------------------------------------------------------\u001b[0m",
      "\u001b[1;31mIndexError\u001b[0m                                Traceback (most recent call last)",
      "Cell \u001b[1;32mIn[140], line 2\u001b[0m\n\u001b[0;32m      1\u001b[0m array \u001b[38;5;241m=\u001b[39m [\u001b[38;5;241m1\u001b[39m,\u001b[38;5;241m2\u001b[39m,\u001b[38;5;241m3\u001b[39m,\u001b[38;5;241m4\u001b[39m,\u001b[38;5;241m5\u001b[39m,\u001b[38;5;241m6\u001b[39m,\u001b[38;5;241m7\u001b[39m,\u001b[38;5;241m8\u001b[39m,\u001b[38;5;241m9\u001b[39m,\u001b[38;5;241m10\u001b[39m]\n\u001b[1;32m----> 2\u001b[0m \u001b[38;5;28mprint\u001b[39m(array[\u001b[38;5;241m12\u001b[39m])\n",
      "\u001b[1;31mIndexError\u001b[0m: list index out of range"
     ]
    }
   ],
   "source": [
    "array = [1,2,3,4,5,6,7,8,9,10]\n",
    "print(array[12])\n",
    "\n",
    "#Error: list index out of range"
   ]
  },
  {
   "cell_type": "code",
   "execution_count": 142,
   "id": "e134c590-fcd2-4140-a919-239912577327",
   "metadata": {
    "tags": []
   },
   "outputs": [
    {
     "ename": "ValueError",
     "evalue": "math domain error",
     "output_type": "error",
     "traceback": [
      "\u001b[1;31m---------------------------------------------------------------------------\u001b[0m",
      "\u001b[1;31mValueError\u001b[0m                                Traceback (most recent call last)",
      "Cell \u001b[1;32mIn[142], line 3\u001b[0m\n\u001b[0;32m      1\u001b[0m \u001b[38;5;28;01mimport\u001b[39;00m \u001b[38;5;21;01mmath\u001b[39;00m\n\u001b[1;32m----> 3\u001b[0m result \u001b[38;5;241m=\u001b[39m math\u001b[38;5;241m.\u001b[39msqrt(\u001b[38;5;241m-\u001b[39m\u001b[38;5;241m1.0\u001b[39m)\n",
      "\u001b[1;31mValueError\u001b[0m: math domain error"
     ]
    }
   ],
   "source": [
    "import math\n",
    "\n",
    "result = math.sqrt(-1.0)\n",
    "\n",
    "# Error: math domain error"
   ]
  },
  {
   "cell_type": "code",
   "execution_count": 143,
   "id": "721b42fc-efab-412d-b929-554668b72a39",
   "metadata": {
    "tags": []
   },
   "outputs": [
    {
     "ename": "NameError",
     "evalue": "name 'x' is not defined",
     "output_type": "error",
     "traceback": [
      "\u001b[1;31m---------------------------------------------------------------------------\u001b[0m",
      "\u001b[1;31mNameError\u001b[0m                                 Traceback (most recent call last)",
      "Cell \u001b[1;32mIn[143], line 1\u001b[0m\n\u001b[1;32m----> 1\u001b[0m \u001b[38;5;28mprint\u001b[39m(x)\n",
      "\u001b[1;31mNameError\u001b[0m: name 'x' is not defined"
     ]
    }
   ],
   "source": [
    "print(x)\n",
    "\n",
    "# Error:  name 'x' is not defined"
   ]
  },
  {
   "cell_type": "code",
   "execution_count": 147,
   "id": "456aaa66-edd6-42f4-832b-aaef430da91e",
   "metadata": {
    "tags": []
   },
   "outputs": [
    {
     "ename": "FileNotFoundError",
     "evalue": "[Errno 2] No such file or directory: 'example.txt'",
     "output_type": "error",
     "traceback": [
      "\u001b[1;31m---------------------------------------------------------------------------\u001b[0m",
      "\u001b[1;31mFileNotFoundError\u001b[0m                         Traceback (most recent call last)",
      "Cell \u001b[1;32mIn[147], line 1\u001b[0m\n\u001b[1;32m----> 1\u001b[0m \u001b[38;5;28;01mwith\u001b[39;00m \u001b[38;5;28mopen\u001b[39m(\u001b[38;5;124m\"\u001b[39m\u001b[38;5;124mexample.txt\u001b[39m\u001b[38;5;124m\"\u001b[39m, \u001b[38;5;124m\"\u001b[39m\u001b[38;5;124mr\u001b[39m\u001b[38;5;124m\"\u001b[39m) \u001b[38;5;28;01mas\u001b[39;00m file:\n\u001b[0;32m      2\u001b[0m     \u001b[38;5;28mprint\u001b[39m(file)\n",
      "File \u001b[1;32m~\\anaconda3\\Lib\\site-packages\\IPython\\core\\interactiveshell.py:284\u001b[0m, in \u001b[0;36m_modified_open\u001b[1;34m(file, *args, **kwargs)\u001b[0m\n\u001b[0;32m    277\u001b[0m \u001b[38;5;28;01mif\u001b[39;00m file \u001b[38;5;129;01min\u001b[39;00m {\u001b[38;5;241m0\u001b[39m, \u001b[38;5;241m1\u001b[39m, \u001b[38;5;241m2\u001b[39m}:\n\u001b[0;32m    278\u001b[0m     \u001b[38;5;28;01mraise\u001b[39;00m \u001b[38;5;167;01mValueError\u001b[39;00m(\n\u001b[0;32m    279\u001b[0m         \u001b[38;5;124mf\u001b[39m\u001b[38;5;124m\"\u001b[39m\u001b[38;5;124mIPython won\u001b[39m\u001b[38;5;124m'\u001b[39m\u001b[38;5;124mt let you open fd=\u001b[39m\u001b[38;5;132;01m{\u001b[39;00mfile\u001b[38;5;132;01m}\u001b[39;00m\u001b[38;5;124m by default \u001b[39m\u001b[38;5;124m\"\u001b[39m\n\u001b[0;32m    280\u001b[0m         \u001b[38;5;124m\"\u001b[39m\u001b[38;5;124mas it is likely to crash IPython. If you know what you are doing, \u001b[39m\u001b[38;5;124m\"\u001b[39m\n\u001b[0;32m    281\u001b[0m         \u001b[38;5;124m\"\u001b[39m\u001b[38;5;124myou can use builtins\u001b[39m\u001b[38;5;124m'\u001b[39m\u001b[38;5;124m open.\u001b[39m\u001b[38;5;124m\"\u001b[39m\n\u001b[0;32m    282\u001b[0m     )\n\u001b[1;32m--> 284\u001b[0m \u001b[38;5;28;01mreturn\u001b[39;00m io_open(file, \u001b[38;5;241m*\u001b[39margs, \u001b[38;5;241m*\u001b[39m\u001b[38;5;241m*\u001b[39mkwargs)\n",
      "\u001b[1;31mFileNotFoundError\u001b[0m: [Errno 2] No such file or directory: 'example.txt'"
     ]
    }
   ],
   "source": [
    "with open(\"example.txt\", \"r\") as file:\n",
    "    print(file)\n",
    "\n",
    "# Error: [Errno 2] No such file or directory: 'example.txt'"
   ]
  },
  {
   "cell_type": "code",
   "execution_count": 150,
   "id": "b9728aaa-d89e-474b-97d5-1437403d9642",
   "metadata": {
    "tags": []
   },
   "outputs": [
    {
     "name": "stdout",
     "output_type": "stream",
     "text": [
      "[1, 1, 1, 3, 5, 1, 1, 2, 1, 0, 1, 0, 1, 2, 4, 0, 1, 2, 0, 3, 1, 0, 1, 1, 0, 0]\n",
      "[1, 0, 0, 0, 1, 0, 0, 0, 0, 0, 0, 1, 0, 0, 0, 2, 0, 0, 0, 0, 0, 0, 0, 0, 0, 0]\n"
     ]
    }
   ],
   "source": [
    "def frequencies(text):\n",
    "    letters = 'abcdefghijklmnopqrstuvwxyz'\n",
    "    frequency = [0] * 26\n",
    "    text = text.lower()\n",
    "    \n",
    "    for char in text:\n",
    "        if char in letters:\n",
    "            index = letters.index(char)\n",
    "            frequency[index] += 1\n",
    "    \n",
    "    return frequency\n",
    "\n",
    "result1 = frequencies('The quick red fox got bored and went home.')\n",
    "result2 = frequencies('apple')\n",
    "print(result1)\n",
    "print(result2)"
   ]
  },
  {
   "cell_type": "code",
   "execution_count": null,
   "id": "4c718b1a-a094-4db9-9c9f-f90f304d2ab3",
   "metadata": {},
   "outputs": [],
   "source": []
  }
 ],
 "metadata": {
  "kernelspec": {
   "display_name": "Python 3 (ipykernel)",
   "language": "python",
   "name": "python3"
  },
  "language_info": {
   "codemirror_mode": {
    "name": "ipython",
    "version": 3
   },
   "file_extension": ".py",
   "mimetype": "text/x-python",
   "name": "python",
   "nbconvert_exporter": "python",
   "pygments_lexer": "ipython3",
   "version": "3.11.4"
  }
 },
 "nbformat": 4,
 "nbformat_minor": 5
}
